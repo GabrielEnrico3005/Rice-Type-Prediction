{
 "cells": [
  {
   "cell_type": "code",
   "execution_count": 30,
   "metadata": {},
   "outputs": [],
   "source": [
    "import tensorflow as tf\n",
    "from tensorflow.keras import layers, models"
   ]
  },
  {
   "cell_type": "code",
   "execution_count": 31,
   "metadata": {},
   "outputs": [],
   "source": [
    "import os\n",
    "from tensorflow.keras.preprocessing.image import load_img, img_to_array"
   ]
  },
  {
   "cell_type": "code",
   "execution_count": 32,
   "metadata": {},
   "outputs": [
    {
     "name": "stdout",
     "output_type": "stream",
     "text": [
      "class name = Arborio, img = Arborio (1).jpg\n",
      "class name = Arborio, img = Arborio (10).jpg\n",
      "class name = Arborio, img = Arborio (100).jpg\n",
      "class name = Arborio, img = Arborio (1000).jpg\n",
      "class name = Arborio, img = Arborio (10000).jpg\n",
      "class name = Arborio, img = Arborio (10001).jpg\n",
      "class name = Arborio, img = Arborio (10002).jpg\n",
      "class name = Arborio, img = Arborio (10003).jpg\n",
      "class name = Arborio, img = Arborio (10004).jpg\n",
      "class name = Arborio, img = Arborio (10005).jpg\n",
      "class name = Arborio, img = Arborio (10006).jpg\n",
      "class name = Arborio, img = Arborio (10007).jpg\n",
      "class name = Arborio, img = Arborio (10008).jpg\n",
      "class name = Arborio, img = Arborio (10009).jpg\n",
      "class name = Arborio, img = Arborio (1001).jpg\n",
      "class name = Arborio, img = Arborio (10010).jpg\n",
      "class name = Arborio, img = Arborio (10011).jpg\n",
      "class name = Arborio, img = Arborio (10012).jpg\n",
      "class name = Arborio, img = Arborio (10013).jpg\n",
      "class name = Arborio, img = Arborio (10014).jpg\n",
      "class name = Arborio, img = Arborio (10015).jpg\n",
      "class name = Arborio, img = Arborio (10016).jpg\n",
      "class name = Arborio, img = Arborio (10017).jpg\n",
      "class name = Arborio, img = Arborio (10018).jpg\n",
      "class name = Arborio, img = Arborio (10019).jpg\n",
      "class name = Arborio, img = Arborio (1002).jpg\n",
      "class name = Arborio, img = Arborio (10020).jpg\n",
      "class name = Arborio, img = Arborio (10021).jpg\n",
      "class name = Arborio, img = Arborio (10022).jpg\n",
      "class name = Arborio, img = Arborio (10023).jpg\n",
      "class name = Arborio, img = Arborio (10024).jpg\n",
      "class name = Arborio, img = Arborio (10025).jpg\n",
      "class name = Arborio, img = Arborio (10026).jpg\n",
      "class name = Arborio, img = Arborio (10027).jpg\n",
      "class name = Arborio, img = Arborio (10028).jpg\n",
      "class name = Arborio, img = Arborio (10029).jpg\n",
      "class name = Arborio, img = Arborio (1003).jpg\n",
      "class name = Arborio, img = Arborio (10030).jpg\n",
      "class name = Arborio, img = Arborio (10031).jpg\n",
      "class name = Arborio, img = Arborio (10032).jpg\n",
      "class name = Arborio, img = Arborio (10033).jpg\n",
      "class name = Arborio, img = Arborio (10034).jpg\n",
      "class name = Arborio, img = Arborio (10035).jpg\n",
      "class name = Arborio, img = Arborio (10036).jpg\n",
      "class name = Arborio, img = Arborio (10037).jpg\n",
      "class name = Arborio, img = Arborio (10038).jpg\n",
      "class name = Arborio, img = Arborio (10039).jpg\n",
      "class name = Arborio, img = Arborio (1004).jpg\n",
      "class name = Arborio, img = Arborio (10040).jpg\n",
      "class name = Arborio, img = Arborio (10041).jpg\n",
      "class name = Arborio, img = Arborio (10042).jpg\n",
      "class name = Arborio, img = Arborio (10043).jpg\n",
      "class name = Arborio, img = Arborio (10044).jpg\n",
      "class name = Arborio, img = Arborio (10045).jpg\n",
      "class name = Arborio, img = Arborio (10046).jpg\n",
      "class name = Arborio, img = Arborio (10047).jpg\n",
      "class name = Arborio, img = Arborio (10048).jpg\n",
      "class name = Arborio, img = Arborio (10049).jpg\n",
      "class name = Arborio, img = Arborio (1005).jpg\n",
      "class name = Arborio, img = Arborio (10050).jpg\n",
      "class name = Arborio, img = Arborio (10051).jpg\n",
      "class name = Arborio, img = Arborio (10052).jpg\n",
      "class name = Arborio, img = Arborio (10053).jpg\n",
      "class name = Arborio, img = Arborio (10054).jpg\n",
      "class name = Arborio, img = Arborio (10055).jpg\n",
      "class name = Arborio, img = Arborio (10056).jpg\n",
      "class name = Arborio, img = Arborio (10057).jpg\n",
      "class name = Arborio, img = Arborio (10058).jpg\n",
      "class name = Arborio, img = Arborio (10059).jpg\n",
      "class name = Arborio, img = Arborio (1006).jpg\n",
      "class name = Arborio, img = Arborio (10060).jpg\n",
      "class name = Arborio, img = Arborio (10061).jpg\n",
      "class name = Arborio, img = Arborio (10062).jpg\n",
      "class name = Arborio, img = Arborio (10063).jpg\n",
      "class name = Arborio, img = Arborio (10064).jpg\n",
      "class name = Arborio, img = Arborio (10065).jpg\n",
      "class name = Arborio, img = Arborio (10066).jpg\n",
      "class name = Arborio, img = Arborio (10067).jpg\n",
      "class name = Arborio, img = Arborio (10068).jpg\n",
      "class name = Arborio, img = Arborio (10069).jpg\n",
      "class name = Arborio, img = Arborio (1007).jpg\n",
      "class name = Arborio, img = Arborio (10070).jpg\n",
      "class name = Arborio, img = Arborio (10071).jpg\n",
      "class name = Arborio, img = Arborio (10072).jpg\n",
      "class name = Arborio, img = Arborio (10073).jpg\n",
      "class name = Arborio, img = Arborio (10074).jpg\n",
      "class name = Arborio, img = Arborio (10075).jpg\n",
      "class name = Arborio, img = Arborio (10076).jpg\n",
      "class name = Arborio, img = Arborio (10077).jpg\n",
      "class name = Arborio, img = Arborio (10078).jpg\n",
      "class name = Arborio, img = Arborio (10079).jpg\n",
      "class name = Arborio, img = Arborio (1008).jpg\n",
      "class name = Arborio, img = Arborio (10080).jpg\n",
      "class name = Arborio, img = Arborio (10081).jpg\n",
      "class name = Arborio, img = Arborio (10082).jpg\n",
      "class name = Arborio, img = Arborio (10083).jpg\n",
      "class name = Arborio, img = Arborio (10084).jpg\n",
      "class name = Arborio, img = Arborio (10085).jpg\n",
      "class name = Arborio, img = Arborio (10086).jpg\n",
      "class name = Arborio, img = Arborio (10087).jpg\n",
      "class name = Arborio, img = Arborio (10088).jpg\n",
      "class name = Ipsala, img = Ipsala (1).jpg\n",
      "class name = Ipsala, img = Ipsala (10).jpg\n",
      "class name = Ipsala, img = Ipsala (100).jpg\n",
      "class name = Ipsala, img = Ipsala (1000).jpg\n",
      "class name = Ipsala, img = Ipsala (10000).jpg\n",
      "class name = Ipsala, img = Ipsala (10001).jpg\n",
      "class name = Ipsala, img = Ipsala (10002).jpg\n",
      "class name = Ipsala, img = Ipsala (10003).jpg\n",
      "class name = Ipsala, img = Ipsala (10004).jpg\n",
      "class name = Ipsala, img = Ipsala (10005).jpg\n",
      "class name = Ipsala, img = Ipsala (10006).jpg\n",
      "class name = Ipsala, img = Ipsala (10007).jpg\n",
      "class name = Ipsala, img = Ipsala (10008).jpg\n",
      "class name = Ipsala, img = Ipsala (10009).jpg\n",
      "class name = Ipsala, img = Ipsala (1001).jpg\n",
      "class name = Ipsala, img = Ipsala (10010).jpg\n",
      "class name = Ipsala, img = Ipsala (10011).jpg\n",
      "class name = Ipsala, img = Ipsala (10012).jpg\n",
      "class name = Ipsala, img = Ipsala (10013).jpg\n",
      "class name = Ipsala, img = Ipsala (10014).jpg\n",
      "class name = Ipsala, img = Ipsala (10015).jpg\n",
      "class name = Ipsala, img = Ipsala (10016).jpg\n",
      "class name = Ipsala, img = Ipsala (10017).jpg\n",
      "class name = Ipsala, img = Ipsala (10018).jpg\n",
      "class name = Ipsala, img = Ipsala (10019).jpg\n",
      "class name = Ipsala, img = Ipsala (1002).jpg\n",
      "class name = Ipsala, img = Ipsala (10020).jpg\n",
      "class name = Ipsala, img = Ipsala (10021).jpg\n",
      "class name = Ipsala, img = Ipsala (10022).jpg\n",
      "class name = Ipsala, img = Ipsala (10023).jpg\n",
      "class name = Ipsala, img = Ipsala (10024).jpg\n",
      "class name = Ipsala, img = Ipsala (10025).jpg\n",
      "class name = Ipsala, img = Ipsala (10026).jpg\n",
      "class name = Ipsala, img = Ipsala (10027).jpg\n",
      "class name = Ipsala, img = Ipsala (10028).jpg\n",
      "class name = Ipsala, img = Ipsala (10029).jpg\n",
      "class name = Ipsala, img = Ipsala (1003).jpg\n",
      "class name = Ipsala, img = Ipsala (10030).jpg\n",
      "class name = Ipsala, img = Ipsala (10031).jpg\n",
      "class name = Ipsala, img = Ipsala (10032).jpg\n",
      "class name = Ipsala, img = Ipsala (10033).jpg\n",
      "class name = Ipsala, img = Ipsala (10034).jpg\n",
      "class name = Ipsala, img = Ipsala (10035).jpg\n",
      "class name = Ipsala, img = Ipsala (10036).jpg\n",
      "class name = Ipsala, img = Ipsala (10037).jpg\n",
      "class name = Ipsala, img = Ipsala (10038).jpg\n",
      "class name = Ipsala, img = Ipsala (10039).jpg\n",
      "class name = Ipsala, img = Ipsala (1004).jpg\n",
      "class name = Ipsala, img = Ipsala (10040).jpg\n",
      "class name = Ipsala, img = Ipsala (10041).jpg\n",
      "class name = Ipsala, img = Ipsala (10042).jpg\n",
      "class name = Ipsala, img = Ipsala (10043).jpg\n",
      "class name = Ipsala, img = Ipsala (10044).jpg\n",
      "class name = Ipsala, img = Ipsala (10045).jpg\n",
      "class name = Ipsala, img = Ipsala (10046).jpg\n",
      "class name = Ipsala, img = Ipsala (10047).jpg\n",
      "class name = Ipsala, img = Ipsala (10048).jpg\n",
      "class name = Ipsala, img = Ipsala (10049).jpg\n",
      "class name = Ipsala, img = Ipsala (1005).jpg\n",
      "class name = Ipsala, img = Ipsala (10050).jpg\n",
      "class name = Ipsala, img = Ipsala (10051).jpg\n",
      "class name = Ipsala, img = Ipsala (10052).jpg\n",
      "class name = Ipsala, img = Ipsala (10053).jpg\n",
      "class name = Ipsala, img = Ipsala (10054).jpg\n",
      "class name = Ipsala, img = Ipsala (10055).jpg\n",
      "class name = Ipsala, img = Ipsala (10056).jpg\n",
      "class name = Ipsala, img = Ipsala (10057).jpg\n",
      "class name = Ipsala, img = Ipsala (10058).jpg\n",
      "class name = Ipsala, img = Ipsala (10059).jpg\n",
      "class name = Ipsala, img = Ipsala (1006).jpg\n",
      "class name = Ipsala, img = Ipsala (10060).jpg\n",
      "class name = Ipsala, img = Ipsala (10061).jpg\n",
      "class name = Ipsala, img = Ipsala (10062).jpg\n",
      "class name = Ipsala, img = Ipsala (10063).jpg\n",
      "class name = Ipsala, img = Ipsala (10064).jpg\n",
      "class name = Ipsala, img = Ipsala (10065).jpg\n",
      "class name = Ipsala, img = Ipsala (10066).jpg\n",
      "class name = Ipsala, img = Ipsala (10067).jpg\n",
      "class name = Ipsala, img = Ipsala (10068).jpg\n",
      "class name = Ipsala, img = Ipsala (10069).jpg\n",
      "class name = Ipsala, img = Ipsala (1007).jpg\n",
      "class name = Ipsala, img = Ipsala (10070).jpg\n",
      "class name = Ipsala, img = Ipsala (10071).jpg\n",
      "class name = Ipsala, img = Ipsala (10072).jpg\n",
      "class name = Ipsala, img = Ipsala (10073).jpg\n",
      "class name = Ipsala, img = Ipsala (10074).jpg\n",
      "class name = Ipsala, img = Ipsala (10075).jpg\n",
      "class name = Ipsala, img = Ipsala (10076).jpg\n",
      "class name = Ipsala, img = Ipsala (10077).jpg\n",
      "class name = Ipsala, img = Ipsala (10078).jpg\n",
      "class name = Ipsala, img = Ipsala (10079).jpg\n",
      "class name = Ipsala, img = Ipsala (1008).jpg\n",
      "class name = Ipsala, img = Ipsala (10080).jpg\n",
      "class name = Ipsala, img = Ipsala (10081).jpg\n",
      "class name = Ipsala, img = Ipsala (10082).jpg\n",
      "class name = Ipsala, img = Ipsala (10083).jpg\n",
      "class name = Ipsala, img = Ipsala (10084).jpg\n",
      "class name = Ipsala, img = Ipsala (10085).jpg\n",
      "class name = Ipsala, img = Ipsala (10086).jpg\n",
      "class name = Ipsala, img = Ipsala (10087).jpg\n",
      "class name = Ipsala, img = Ipsala (10088).jpg\n",
      "class name = Karacadag, img = Karacadag (1).jpg\n",
      "class name = Karacadag, img = Karacadag (10).jpg\n",
      "class name = Karacadag, img = Karacadag (100).jpg\n",
      "class name = Karacadag, img = Karacadag (1000).jpg\n",
      "class name = Karacadag, img = Karacadag (10000).jpg\n",
      "class name = Karacadag, img = Karacadag (10001).jpg\n",
      "class name = Karacadag, img = Karacadag (10002).jpg\n",
      "class name = Karacadag, img = Karacadag (10003).jpg\n",
      "class name = Karacadag, img = Karacadag (10004).jpg\n",
      "class name = Karacadag, img = Karacadag (10005).jpg\n",
      "class name = Karacadag, img = Karacadag (10006).jpg\n",
      "class name = Karacadag, img = Karacadag (10007).jpg\n",
      "class name = Karacadag, img = Karacadag (10008).jpg\n",
      "class name = Karacadag, img = Karacadag (10009).jpg\n",
      "class name = Karacadag, img = Karacadag (1001).jpg\n",
      "class name = Karacadag, img = Karacadag (10010).jpg\n",
      "class name = Karacadag, img = Karacadag (10011).jpg\n",
      "class name = Karacadag, img = Karacadag (10012).jpg\n",
      "class name = Karacadag, img = Karacadag (10013).jpg\n",
      "class name = Karacadag, img = Karacadag (10014).jpg\n",
      "class name = Karacadag, img = Karacadag (10015).jpg\n",
      "class name = Karacadag, img = Karacadag (10016).jpg\n",
      "class name = Karacadag, img = Karacadag (10017).jpg\n",
      "class name = Karacadag, img = Karacadag (10018).jpg\n",
      "class name = Karacadag, img = Karacadag (10019).jpg\n",
      "class name = Karacadag, img = Karacadag (1002).jpg\n",
      "class name = Karacadag, img = Karacadag (10020).jpg\n",
      "class name = Karacadag, img = Karacadag (10021).jpg\n",
      "class name = Karacadag, img = Karacadag (10022).jpg\n",
      "class name = Karacadag, img = Karacadag (10023).jpg\n",
      "class name = Karacadag, img = Karacadag (10024).jpg\n",
      "class name = Karacadag, img = Karacadag (10025).jpg\n",
      "class name = Karacadag, img = Karacadag (10026).jpg\n",
      "class name = Karacadag, img = Karacadag (10027).jpg\n",
      "class name = Karacadag, img = Karacadag (10028).jpg\n",
      "class name = Karacadag, img = Karacadag (10029).jpg\n",
      "class name = Karacadag, img = Karacadag (1003).jpg\n",
      "class name = Karacadag, img = Karacadag (10030).jpg\n",
      "class name = Karacadag, img = Karacadag (10031).jpg\n",
      "class name = Karacadag, img = Karacadag (10032).jpg\n",
      "class name = Karacadag, img = Karacadag (10033).jpg\n",
      "class name = Karacadag, img = Karacadag (10034).jpg\n",
      "class name = Karacadag, img = Karacadag (10035).jpg\n",
      "class name = Karacadag, img = Karacadag (10036).jpg\n",
      "class name = Karacadag, img = Karacadag (10037).jpg\n",
      "class name = Karacadag, img = Karacadag (10038).jpg\n",
      "class name = Karacadag, img = Karacadag (10039).jpg\n",
      "class name = Karacadag, img = Karacadag (1004).jpg\n",
      "class name = Karacadag, img = Karacadag (10040).jpg\n",
      "class name = Karacadag, img = Karacadag (10041).jpg\n",
      "class name = Karacadag, img = Karacadag (10042).jpg\n",
      "class name = Karacadag, img = Karacadag (10043).jpg\n",
      "class name = Karacadag, img = Karacadag (10044).jpg\n",
      "class name = Karacadag, img = Karacadag (10045).jpg\n",
      "class name = Karacadag, img = Karacadag (10046).jpg\n",
      "class name = Karacadag, img = Karacadag (10047).jpg\n",
      "class name = Karacadag, img = Karacadag (10048).jpg\n",
      "class name = Karacadag, img = Karacadag (10049).jpg\n",
      "class name = Karacadag, img = Karacadag (1005).jpg\n",
      "class name = Karacadag, img = Karacadag (10050).jpg\n",
      "class name = Karacadag, img = Karacadag (10051).jpg\n",
      "class name = Karacadag, img = Karacadag (10052).jpg\n",
      "class name = Karacadag, img = Karacadag (10053).jpg\n",
      "class name = Karacadag, img = Karacadag (10054).jpg\n",
      "class name = Karacadag, img = Karacadag (10055).jpg\n",
      "class name = Karacadag, img = Karacadag (10056).jpg\n",
      "class name = Karacadag, img = Karacadag (10057).jpg\n",
      "class name = Karacadag, img = Karacadag (10058).jpg\n",
      "class name = Karacadag, img = Karacadag (10059).jpg\n",
      "class name = Karacadag, img = Karacadag (1006).jpg\n",
      "class name = Karacadag, img = Karacadag (10060).jpg\n",
      "class name = Karacadag, img = Karacadag (10061).jpg\n",
      "class name = Karacadag, img = Karacadag (10062).jpg\n",
      "class name = Karacadag, img = Karacadag (10063).jpg\n",
      "class name = Karacadag, img = Karacadag (10064).jpg\n",
      "class name = Karacadag, img = Karacadag (10065).jpg\n",
      "class name = Karacadag, img = Karacadag (10066).jpg\n",
      "class name = Karacadag, img = Karacadag (10067).jpg\n",
      "class name = Karacadag, img = Karacadag (10068).jpg\n",
      "class name = Karacadag, img = Karacadag (10069).jpg\n",
      "class name = Karacadag, img = Karacadag (1007).jpg\n",
      "class name = Karacadag, img = Karacadag (10070).jpg\n",
      "class name = Karacadag, img = Karacadag (10071).jpg\n",
      "class name = Karacadag, img = Karacadag (10072).jpg\n",
      "class name = Karacadag, img = Karacadag (10073).jpg\n",
      "class name = Karacadag, img = Karacadag (10074).jpg\n",
      "class name = Karacadag, img = Karacadag (10075).jpg\n",
      "class name = Karacadag, img = Karacadag (10076).jpg\n",
      "class name = Karacadag, img = Karacadag (10077).jpg\n",
      "class name = Karacadag, img = Karacadag (10078).jpg\n",
      "class name = Karacadag, img = Karacadag (10079).jpg\n",
      "class name = Karacadag, img = Karacadag (1008).jpg\n",
      "class name = Karacadag, img = Karacadag (10080).jpg\n",
      "class name = Karacadag, img = Karacadag (10081).jpg\n",
      "class name = Karacadag, img = Karacadag (10082).jpg\n",
      "class name = Karacadag, img = Karacadag (10083).jpg\n",
      "class name = Karacadag, img = Karacadag (10084).jpg\n",
      "class name = Karacadag, img = Karacadag (10085).jpg\n",
      "class name = Karacadag, img = Karacadag (10086).jpg\n",
      "class name = Karacadag, img = Karacadag (10087).jpg\n",
      "class name = Karacadag, img = Karacadag (10088).jpg\n"
     ]
    }
   ],
   "source": [
    "DATASET = \"./Rice/\"\n",
    "\n",
    "images = []\n",
    "classlist = []\n",
    "label_list = ['Arborio', 'Ipsala', 'Karacadag']\n",
    "for i, class_name in enumerate(os.listdir(DATASET)):\n",
    "    for j, file in enumerate(os.listdir(os.path.join(DATASET, class_name))):\n",
    "        image = load_img(os.path.join(DATASET, class_name, file))\n",
    "        # img jadi array\n",
    "        image = img_to_array(image)\n",
    "        # buat imgnya jadi grayscale\n",
    "        image = tf.image.rgb_to_grayscale(image)\n",
    "        image = image / 255.0\n",
    "        \n",
    "        classlist.append(i)\n",
    "        images.append(image)\n",
    "        \n",
    "        print(f'class name = {class_name}, img = {file}')\n",
    "        if(j == 100):\n",
    "            break"
   ]
  },
  {
   "cell_type": "code",
   "execution_count": 33,
   "metadata": {},
   "outputs": [
    {
     "data": {
      "image/png": "[encoded data removed]",
      "text/plain": [
       "<Figure size 640x480 with 9 Axes>"
      ]
     },
     "metadata": {},
     "output_type": "display_data"
    }
   ],
   "source": [
    "import matplotlib.pyplot as plt\n",
    "\n",
    "for i in range(9):\n",
    "    plt.subplot(3, 3, i+1)\n",
    "    plt.imshow(images[i], 'gray')"
   ]
  },
  {
   "cell_type": "code",
   "execution_count": 34,
   "metadata": {},
   "outputs": [],
   "source": [
    "import numpy as np\n",
    "from sklearn.model_selection import train_test_split\n"
   ]
  },
  {
   "cell_type": "code",
   "execution_count": 35,
   "metadata": {},
   "outputs": [],
   "source": [
    "images = np.array(images)\n",
    "\n",
    "y = tf.keras.utils.to_categorical(classlist, num_classes = len(label_list))\n",
    "x_train, x_test, y_train, y_test = train_test_split(images, y, test_size=0.2, random_state=42)\n",
    "\n",
    "x_test, x_val, y_test, y_val = train_test_split(x_test, y_test, test_size=0.5, random_state=42)"
   ]
  },
  {
   "cell_type": "code",
   "execution_count": 38,
   "metadata": {},
   "outputs": [
    {
     "name": "stderr",
     "output_type": "stream",
     "text": [
      "c:\\Anaconda3\\envs\\deep_learning\\Lib\\site-packages\\keras\\src\\layers\\convolutional\\base_conv.py:107: UserWarning: Do not pass an `input_shape`/`input_dim` argument to a layer. When using Sequential models, prefer using an `Input(shape)` object as the first layer in the model instead.\n",
      "  super().__init__(activity_regularizer=activity_regularizer, **kwargs)\n"
     ]
    }
   ],
   "source": [
    "model = models.Sequential([\n",
    "    # layer 1\n",
    "    layers.Conv2D(32, (3, 3),activation = 'relu', input_shape = (250, 250, 1)), layers.MaxPooling2D((2, 2)),\n",
    "    # layer 2\n",
    "    layers.Conv2D(64, (3, 3),activation = 'relu', ), layers.MaxPooling2D((2, 2)),\n",
    "    # layer 3\n",
    "    layers.Conv2D(128, (3, 3),activation = 'relu', ), layers.MaxPooling2D((2, 2)),\n",
    "    # fully connected\n",
    "    layers.Flatten(),\n",
    "    layers.Dense(128, activation='relu'),\n",
    "    layers.Dense(3, activation='softmax')\n",
    "])"
   ]
  },
  {
   "cell_type": "code",
   "execution_count": 39,
   "metadata": {},
   "outputs": [
    {
     "data": {
      "text/html": [
       "<pre style=\"white-space:pre;overflow-x:auto;line-height:normal;font-family:Menlo,'DejaVu Sans Mono',consolas,'Courier New',monospace\"><span style=\"font-weight: bold\">Model: \"sequential_2\"</span>\n",
       "</pre>\n"
      ],
      "text/plain": [
       "\u001b[1mModel: \"sequential_2\"\u001b[0m\n"
      ]
     },
     "metadata": {},
     "output_type": "display_data"
    },
    {
     "data": {
      "text/html": [
       "<pre style=\"white-space:pre;overflow-x:auto;line-height:normal;font-family:Menlo,'DejaVu Sans Mono',consolas,'Courier New',monospace\">┏━━━━━━━━━━━━━━━━━━━━━━━━━━━━━━━━━┳━━━━━━━━━━━━━━━━━━━━━━━━┳━━━━━━━━━━━━━━━┓\n",
       "┃<span style=\"font-weight: bold\"> Layer (type)                    </span>┃<span style=\"font-weight: bold\"> Output Shape           </span>┃<span style=\"font-weight: bold\">       Param # </span>┃\n",
       "┡━━━━━━━━━━━━━━━━━━━━━━━━━━━━━━━━━╇━━━━━━━━━━━━━━━━━━━━━━━━╇━━━━━━━━━━━━━━━┩\n",
       "│ conv2d_3 (<span style=\"color: #0087ff; text-decoration-color: #0087ff\">Conv2D</span>)               │ (<span style=\"color: #00d7ff; text-decoration-color: #00d7ff\">None</span>, <span style=\"color: #00af00; text-decoration-color: #00af00\">248</span>, <span style=\"color: #00af00; text-decoration-color: #00af00\">248</span>, <span style=\"color: #00af00; text-decoration-color: #00af00\">32</span>)   │           <span style=\"color: #00af00; text-decoration-color: #00af00\">320</span> │\n",
       "├─────────────────────────────────┼────────────────────────┼───────────────┤\n",
       "│ max_pooling2d_3 (<span style=\"color: #0087ff; text-decoration-color: #0087ff\">MaxPooling2D</span>)  │ (<span style=\"color: #00d7ff; text-decoration-color: #00d7ff\">None</span>, <span style=\"color: #00af00; text-decoration-color: #00af00\">124</span>, <span style=\"color: #00af00; text-decoration-color: #00af00\">124</span>, <span style=\"color: #00af00; text-decoration-color: #00af00\">32</span>)   │             <span style=\"color: #00af00; text-decoration-color: #00af00\">0</span> │\n",
       "├─────────────────────────────────┼────────────────────────┼───────────────┤\n",
       "│ conv2d_4 (<span style=\"color: #0087ff; text-decoration-color: #0087ff\">Conv2D</span>)               │ (<span style=\"color: #00d7ff; text-decoration-color: #00d7ff\">None</span>, <span style=\"color: #00af00; text-decoration-color: #00af00\">122</span>, <span style=\"color: #00af00; text-decoration-color: #00af00\">122</span>, <span style=\"color: #00af00; text-decoration-color: #00af00\">64</span>)   │        <span style=\"color: #00af00; text-decoration-color: #00af00\">18,496</span> │\n",
       "├─────────────────────────────────┼────────────────────────┼───────────────┤\n",
       "│ max_pooling2d_4 (<span style=\"color: #0087ff; text-decoration-color: #0087ff\">MaxPooling2D</span>)  │ (<span style=\"color: #00d7ff; text-decoration-color: #00d7ff\">None</span>, <span style=\"color: #00af00; text-decoration-color: #00af00\">61</span>, <span style=\"color: #00af00; text-decoration-color: #00af00\">61</span>, <span style=\"color: #00af00; text-decoration-color: #00af00\">64</span>)     │             <span style=\"color: #00af00; text-decoration-color: #00af00\">0</span> │\n",
       "├─────────────────────────────────┼────────────────────────┼───────────────┤\n",
       "│ conv2d_5 (<span style=\"color: #0087ff; text-decoration-color: #0087ff\">Conv2D</span>)               │ (<span style=\"color: #00d7ff; text-decoration-color: #00d7ff\">None</span>, <span style=\"color: #00af00; text-decoration-color: #00af00\">59</span>, <span style=\"color: #00af00; text-decoration-color: #00af00\">59</span>, <span style=\"color: #00af00; text-decoration-color: #00af00\">128</span>)    │        <span style=\"color: #00af00; text-decoration-color: #00af00\">73,856</span> │\n",
       "├─────────────────────────────────┼────────────────────────┼───────────────┤\n",
       "│ max_pooling2d_5 (<span style=\"color: #0087ff; text-decoration-color: #0087ff\">MaxPooling2D</span>)  │ (<span style=\"color: #00d7ff; text-decoration-color: #00d7ff\">None</span>, <span style=\"color: #00af00; text-decoration-color: #00af00\">29</span>, <span style=\"color: #00af00; text-decoration-color: #00af00\">29</span>, <span style=\"color: #00af00; text-decoration-color: #00af00\">128</span>)    │             <span style=\"color: #00af00; text-decoration-color: #00af00\">0</span> │\n",
       "├─────────────────────────────────┼────────────────────────┼───────────────┤\n",
       "│ flatten (<span style=\"color: #0087ff; text-decoration-color: #0087ff\">Flatten</span>)               │ (<span style=\"color: #00d7ff; text-decoration-color: #00d7ff\">None</span>, <span style=\"color: #00af00; text-decoration-color: #00af00\">107648</span>)         │             <span style=\"color: #00af00; text-decoration-color: #00af00\">0</span> │\n",
       "├─────────────────────────────────┼────────────────────────┼───────────────┤\n",
       "│ dense (<span style=\"color: #0087ff; text-decoration-color: #0087ff\">Dense</span>)                   │ (<span style=\"color: #00d7ff; text-decoration-color: #00d7ff\">None</span>, <span style=\"color: #00af00; text-decoration-color: #00af00\">128</span>)            │    <span style=\"color: #00af00; text-decoration-color: #00af00\">13,779,072</span> │\n",
       "├─────────────────────────────────┼────────────────────────┼───────────────┤\n",
       "│ dense_1 (<span style=\"color: #0087ff; text-decoration-color: #0087ff\">Dense</span>)                 │ (<span style=\"color: #00d7ff; text-decoration-color: #00d7ff\">None</span>, <span style=\"color: #00af00; text-decoration-color: #00af00\">3</span>)              │           <span style=\"color: #00af00; text-decoration-color: #00af00\">387</span> │\n",
       "└─────────────────────────────────┴────────────────────────┴───────────────┘\n",
       "</pre>\n"
      ],
      "text/plain": [
       "┏━━━━━━━━━━━━━━━━━━━━━━━━━━━━━━━━━┳━━━━━━━━━━━━━━━━━━━━━━━━┳━━━━━━━━━━━━━━━┓\n",
       "┃\u001b[1m \u001b[0m\u001b[1mLayer (type)                   \u001b[0m\u001b[1m \u001b[0m┃\u001b[1m \u001b[0m\u001b[1mOutput Shape          \u001b[0m\u001b[1m \u001b[0m┃\u001b[1m \u001b[0m\u001b[1m      Param #\u001b[0m\u001b[1m \u001b[0m┃\n",
       "┡━━━━━━━━━━━━━━━━━━━━━━━━━━━━━━━━━╇━━━━━━━━━━━━━━━━━━━━━━━━╇━━━━━━━━━━━━━━━┩\n",
       "│ conv2d_3 (\u001b[38;5;33mConv2D\u001b[0m)               │ (\u001b[38;5;45mNone\u001b[0m, \u001b[38;5;34m248\u001b[0m, \u001b[38;5;34m248\u001b[0m, \u001b[38;5;34m32\u001b[0m)   │           \u001b[38;5;34m320\u001b[0m │\n",
       "├─────────────────────────────────┼────────────────────────┼───────────────┤\n",
       "│ max_pooling2d_3 (\u001b[38;5;33mMaxPooling2D\u001b[0m)  │ (\u001b[38;5;45mNone\u001b[0m, \u001b[38;5;34m124\u001b[0m, \u001b[38;5;34m124\u001b[0m, \u001b[38;5;34m32\u001b[0m)   │             \u001b[38;5;34m0\u001b[0m │\n",
       "├─────────────────────────────────┼────────────────────────┼───────────────┤\n",
       "│ conv2d_4 (\u001b[38;5;33mConv2D\u001b[0m)               │ (\u001b[38;5;45mNone\u001b[0m, \u001b[38;5;34m122\u001b[0m, \u001b[38;5;34m122\u001b[0m, \u001b[38;5;34m64\u001b[0m)   │        \u001b[38;5;34m18,496\u001b[0m │\n",
       "├─────────────────────────────────┼────────────────────────┼───────────────┤\n",
       "│ max_pooling2d_4 (\u001b[38;5;33mMaxPooling2D\u001b[0m)  │ (\u001b[38;5;45mNone\u001b[0m, \u001b[38;5;34m61\u001b[0m, \u001b[38;5;34m61\u001b[0m, \u001b[38;5;34m64\u001b[0m)     │             \u001b[38;5;34m0\u001b[0m │\n",
       "├─────────────────────────────────┼────────────────────────┼───────────────┤\n",
       "│ conv2d_5 (\u001b[38;5;33mConv2D\u001b[0m)               │ (\u001b[38;5;45mNone\u001b[0m, \u001b[38;5;34m59\u001b[0m, \u001b[38;5;34m59\u001b[0m, \u001b[38;5;34m128\u001b[0m)    │        \u001b[38;5;34m73,856\u001b[0m │\n",
       "├─────────────────────────────────┼────────────────────────┼───────────────┤\n",
       "│ max_pooling2d_5 (\u001b[38;5;33mMaxPooling2D\u001b[0m)  │ (\u001b[38;5;45mNone\u001b[0m, \u001b[38;5;34m29\u001b[0m, \u001b[38;5;34m29\u001b[0m, \u001b[38;5;34m128\u001b[0m)    │             \u001b[38;5;34m0\u001b[0m │\n",
       "├─────────────────────────────────┼────────────────────────┼───────────────┤\n",
       "│ flatten (\u001b[38;5;33mFlatten\u001b[0m)               │ (\u001b[38;5;45mNone\u001b[0m, \u001b[38;5;34m107648\u001b[0m)         │             \u001b[38;5;34m0\u001b[0m │\n",
       "├─────────────────────────────────┼────────────────────────┼───────────────┤\n",
       "│ dense (\u001b[38;5;33mDense\u001b[0m)                   │ (\u001b[38;5;45mNone\u001b[0m, \u001b[38;5;34m128\u001b[0m)            │    \u001b[38;5;34m13,779,072\u001b[0m │\n",
       "├─────────────────────────────────┼────────────────────────┼───────────────┤\n",
       "│ dense_1 (\u001b[38;5;33mDense\u001b[0m)                 │ (\u001b[38;5;45mNone\u001b[0m, \u001b[38;5;34m3\u001b[0m)              │           \u001b[38;5;34m387\u001b[0m │\n",
       "└─────────────────────────────────┴────────────────────────┴───────────────┘\n"
      ]
     },
     "metadata": {},
     "output_type": "display_data"
    },
    {
     "data": {
      "text/html": [
       "<pre style=\"white-space:pre;overflow-x:auto;line-height:normal;font-family:Menlo,'DejaVu Sans Mono',consolas,'Courier New',monospace\"><span style=\"font-weight: bold\"> Total params: </span><span style=\"color: #00af00; text-decoration-color: #00af00\">13,872,131</span> (52.92 MB)\n",
       "</pre>\n"
      ],
      "text/plain": [
       "\u001b[1m Total params: \u001b[0m\u001b[38;5;34m13,872,131\u001b[0m (52.92 MB)\n"
      ]
     },
     "metadata": {},
     "output_type": "display_data"
    },
    {
     "data": {
      "text/html": [
       "<pre style=\"white-space:pre;overflow-x:auto;line-height:normal;font-family:Menlo,'DejaVu Sans Mono',consolas,'Courier New',monospace\"><span style=\"font-weight: bold\"> Trainable params: </span><span style=\"color: #00af00; text-decoration-color: #00af00\">13,872,131</span> (52.92 MB)\n",
       "</pre>\n"
      ],
      "text/plain": [
       "\u001b[1m Trainable params: \u001b[0m\u001b[38;5;34m13,872,131\u001b[0m (52.92 MB)\n"
      ]
     },
     "metadata": {},
     "output_type": "display_data"
    },
    {
     "data": {
      "text/html": [
       "<pre style=\"white-space:pre;overflow-x:auto;line-height:normal;font-family:Menlo,'DejaVu Sans Mono',consolas,'Courier New',monospace\"><span style=\"font-weight: bold\"> Non-trainable params: </span><span style=\"color: #00af00; text-decoration-color: #00af00\">0</span> (0.00 B)\n",
       "</pre>\n"
      ],
      "text/plain": [
       "\u001b[1m Non-trainable params: \u001b[0m\u001b[38;5;34m0\u001b[0m (0.00 B)\n"
      ]
     },
     "metadata": {},
     "output_type": "display_data"
    }
   ],
   "source": [
    "model.compile(optimizer='adam', loss='categorical_crossentropy', metrics=['accuracy'])\n",
    "model.summary()"
   ]
  },
  {
   "cell_type": "code",
   "execution_count": 41,
   "metadata": {},
   "outputs": [
    {
     "name": "stdout",
     "output_type": "stream",
     "text": [
      "Epoch 1/5\n",
      "\u001b[1m8/8\u001b[0m \u001b[32m━━━━━━━━━━━━━━━━━━━━\u001b[0m\u001b[37m\u001b[0m \u001b[1m3s\u001b[0m 434ms/step - accuracy: 0.9557 - loss: 0.1205 - val_accuracy: 0.9677 - val_loss: 0.0642\n",
      "Epoch 2/5\n",
      "\u001b[1m8/8\u001b[0m \u001b[32m━━━━━━━━━━━━━━━━━━━━\u001b[0m\u001b[37m\u001b[0m \u001b[1m3s\u001b[0m 427ms/step - accuracy: 0.9746 - loss: 0.0608 - val_accuracy: 1.0000 - val_loss: 0.0379\n",
      "Epoch 3/5\n",
      "\u001b[1m8/8\u001b[0m \u001b[32m━━━━━━━━━━━━━━━━━━━━\u001b[0m\u001b[37m\u001b[0m \u001b[1m3s\u001b[0m 430ms/step - accuracy: 0.9906 - loss: 0.0338 - val_accuracy: 0.9677 - val_loss: 0.0392\n",
      "Epoch 4/5\n",
      "\u001b[1m8/8\u001b[0m \u001b[32m━━━━━━━━━━━━━━━━━━━━\u001b[0m\u001b[37m\u001b[0m \u001b[1m3s\u001b[0m 430ms/step - accuracy: 0.9881 - loss: 0.0305 - val_accuracy: 0.9677 - val_loss: 0.0383\n",
      "Epoch 5/5\n",
      "\u001b[1m8/8\u001b[0m \u001b[32m━━━━━━━━━━━━━━━━━━━━\u001b[0m\u001b[37m\u001b[0m \u001b[1m3s\u001b[0m 428ms/step - accuracy: 0.9980 - loss: 0.0202 - val_accuracy: 0.9677 - val_loss: 0.0530\n"
     ]
    }
   ],
   "source": [
    "early_stopping = tf.keras.callbacks.EarlyStopping(monitor='val_loss', patience=3)\n",
    "history = model.fit(x_train, y_train, epochs=5, validation_data=(x_val, y_val), batch_size=32, callbacks=[early_stopping])"
   ]
  },
  {
   "cell_type": "code",
   "execution_count": 44,
   "metadata": {},
   "outputs": [
    {
     "name": "stdout",
     "output_type": "stream",
     "text": [
      "\u001b[1m1/1\u001b[0m \u001b[32m━━━━━━━━━━━━━━━━━━━━\u001b[0m\u001b[37m\u001b[0m \u001b[1m0s\u001b[0m 101ms/step - accuracy: 0.9667 - loss: 0.0939\n",
      "loss = 0.09388358891010284, accuracy = 0.9666666388511658\n"
     ]
    }
   ],
   "source": [
    "loss, accuracy = model.evaluate(x_test, y_test)\n",
    "print(f'loss = {loss}, accuracy = {accuracy}')"
   ]
  },
  {
   "cell_type": "code",
   "execution_count": 46,
   "metadata": {},
   "outputs": [
    {
     "name": "stderr",
     "output_type": "stream",
     "text": [
      "WARNING:absl:You are saving your model as an HDF5 file via `model.save()` or `keras.saving.save_model(model)`. This file format is considered legacy. We recommend using instead the native Keras format, e.g. `model.save('my_model.keras')` or `keras.saving.save_model(model, 'my_model.keras')`. \n"
     ]
    }
   ],
   "source": [
    "model.save('rice_model.h5')"
   ]
  },
  {
   "cell_type": "code",
   "execution_count": 47,
   "metadata": {},
   "outputs": [
    {
     "data": {
      "text/plain": [
       "[<matplotlib.lines.Line2D at 0x20ce783cda0>]"
      ]
     },
     "execution_count": 47,
     "metadata": {},
     "output_type": "execute_result"
    },
    {
     "data": {
      "image/png": "[encoded data removed]",
      "text/plain": [
       "<Figure size 640x480 with 1 Axes>"
      ]
     },
     "metadata": {},
     "output_type": "display_data"
    }
   ],
   "source": [
    "plt.plot(history.history['accuracy'], label = 'training_accuracy')\n",
    "plt.plot(history.history['val_accuracy'], label = 'validiation_accuracy')"
   ]
  },
  {
   "cell_type": "code",
   "execution_count": null,
   "metadata": {},
   "outputs": [],
   "source": []
  }
 ],
 "metadata": {
  "kernelspec": {
   "display_name": "deep_learning",
   "language": "python",
   "name": "python3"
  },
  "language_info": {
   "codemirror_mode": {
    "name": "ipython",
    "version": 3
   },
   "file_extension": ".py",
   "mimetype": "text/x-python",
   "name": "python",
   "nbconvert_exporter": "python",
   "pygments_lexer": "ipython3",
   "version": "3.12.2"
  }
 },
 "nbformat": 4,
 "nbformat_minor": 2
}
